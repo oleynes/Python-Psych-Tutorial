{
 "cells": [
  {
   "cell_type": "markdown",
   "metadata": {},
   "source": [
    "# Solutions"
   ]
  },
  {
   "cell_type": "code",
   "execution_count": 6,
   "metadata": {},
   "outputs": [],
   "source": [
    "# 1. Write a function that takes the radius of a circle and returns the area\n",
    "\n",
    "def area(radius):\n",
    "    return 3.14 * (radius * radius)\n",
    "\n",
    "# or\n",
    "def area(radius):\n",
    "    area = 3.14 * pow(radius, 2)\n",
    "    return area\n",
    "\n",
    "# 2. Write a function that prints each item of a list on a new line\n",
    "\n",
    "def print_all(items):\n",
    "    for item in items:\n",
    "        print(item)\n",
    "\n",
    "# or\n",
    "\n",
    "def print_all(items):\n",
    "    for i in range(len(items)):\n",
    "        print(items[i])\n",
    "\n",
    "# 3. Write a function which uses a library function of numpy\n",
    "\n",
    "from numpy.random import randint\n",
    "\n",
    "def numpy_arr(entries):\n",
    "    return randint(start=0, stop=100, size=entries)\n",
    "\n",
    "# 4. Write a function that returns the largest number in a list\n",
    "def biggest_num(ls):\n",
    "    maximum = ls[0]\n",
    "    for item in ls:\n",
    "        if item > maximum:\n",
    "            maximum = item\n",
    "    return maximum\n",
    "\n",
    "# 5. Write a function for sorting a list of numbers\n",
    "\n",
    "def bubble_sort(arr):\n",
    "    n = len(arr) \n",
    "    for i in range(n): \n",
    "        for j in range(0, n-i-1): \n",
    "            if arr[j] > arr[j+1] : \n",
    "                arr[j], arr[j+1] = arr[j+1], arr[j]\n",
    "\n",
    "# 6. Write a function to average all data in a given list\n",
    "def avg(data):\n",
    "    total = 0\n",
    "    for item in data:\n",
    "        total += item\n",
    "    total = total / len(data)\n",
    "    return total"
   ]
  },
  {
   "cell_type": "code",
   "execution_count": null,
   "metadata": {},
   "outputs": [],
   "source": []
  }
 ],
 "metadata": {
  "kernelspec": {
   "display_name": "Python 3",
   "language": "python",
   "name": "python3"
  },
  "language_info": {
   "codemirror_mode": {
    "name": "ipython",
    "version": 3
   },
   "file_extension": ".py",
   "mimetype": "text/x-python",
   "name": "python",
   "nbconvert_exporter": "python",
   "pygments_lexer": "ipython3",
   "version": "3.7.5"
  }
 },
 "nbformat": 4,
 "nbformat_minor": 4
}
