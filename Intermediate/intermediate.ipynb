{
 "cells": [
  {
   "cell_type": "markdown",
   "metadata": {},
   "source": [
    "# 2.1 Printing and Debugging\n",
    "If you already read through all of the beginner section you've seen me use the `print()` function a lot. Printing is a really good way to get feedback from your program as the code executes, sometimes you can't quite track down where an error is coming from with the printed error message and other times it will be a logic error you need to fix. Generally speaking when it comes to code logic errors are your worst enemy because it isn't something the python interpreter can catch. A common example of a logic error is if you programmed a banking system and the function which applies interest to an account uses the wrong equation the program will run just fine but customers' account balances will be incorrect. So how would you track down an issue? The best answer is a whole lot of printing. \n",
    "\n",
    "Now as with most things in programming there's a number of ways of adding all these print statements to your code, I'll be showing a few ways that I commonly debug my programs as well as give a little blurb about when I would use each method but to be clear there is no *wrong* way to debug a program, if it helps you find the error and fix it then it's as good an options as any of these.\n",
    "\n",
    "Before we get into the code, I think it's also important to discuss what you should be printing in these debug statements. Generally speaking starting with printing the value of important variables. Additionally its sometimes useful to print something like `inside for loop` to help keep track of where in the code the program is currently executing. \n",
    "\n",
    "\n",
    "When debugging a program there are often a few things that affect what method I choose for adding debug statements. If its a large project I often elect to use the first example, this is a more permenant debugging solution that requires a bit more initial setup but can be useful when problems pop up because only the debug variable's value needs to be changed for the print statements to work. For small projects this is a bit overkill because its likely you will fix the problem and not need to debug that part of the code again. Now lets get into some code shall we?"
   ]
  },
  {
   "cell_type": "code",
   "execution_count": 1,
   "metadata": {},
   "outputs": [
    {
     "name": "stdout",
     "output_type": "stream",
     "text": [
      "Hello World\n"
     ]
    }
   ],
   "source": [
    "DEBUG = True\n",
    "\n",
    "if DEBUG:\n",
    "    print('Hello World')\n",
    "    \n",
    "# this option is best for big projects where you might need to\n",
    "# debug the same portion of your code multiple times over the course \n",
    "# of development. "
   ]
  },
  {
   "cell_type": "code",
   "execution_count": 2,
   "metadata": {},
   "outputs": [
    {
     "name": "stdout",
     "output_type": "stream",
     "text": [
      "Program running\n"
     ]
    }
   ],
   "source": [
    "print('Program running')\n",
    "\n",
    "a = 5\n",
    "# print('Value of a=%d' %(a))    # notice this doesn't print \n",
    "\n",
    "# for simple programs this is a better option, if you think you might\n",
    "# need to come back you can always comment out the print statement by\n",
    "# preceding it with a `#` and then when you're done you can just \n",
    "# delete all the prints using find and replace (usually [CTRL] + [F])"
   ]
  },
  {
   "cell_type": "markdown",
   "metadata": {},
   "source": [
    "Its hard to see what the pros and cons of these two options are with just what is above, I encourage you to play around with the next two examples to see how easy it is to enable and disable the print statement with each style. The more you work with code and design your own debugging systems the more you'll understand why the first is better in some instances and the second likewise."
   ]
  },
  {
   "cell_type": "code",
   "execution_count": 8,
   "metadata": {},
   "outputs": [
    {
     "name": "stdout",
     "output_type": "stream",
     "text": [
      "val=100\n",
      "val=97\n",
      "val=115\n",
      "val=110\n",
      "val=100\n",
      "Found duplicate character\n"
     ]
    },
    {
     "data": {
      "text/plain": [
       "False"
      ]
     },
     "execution_count": 8,
     "metadata": {},
     "output_type": "execute_result"
    }
   ],
   "source": [
    "DEBUG = True\n",
    "def isUniqueChars(st): \n",
    "  \n",
    "    # String length cannot be more than \n",
    "    # 256. \n",
    "    if len(st) > 256: \n",
    "        if DEBUG:\n",
    "            print('String length larger than 256')\n",
    "        return False\n",
    "  \n",
    "    # Initialize occurrences of all characters \n",
    "    char_set = [False] * 128\n",
    "  \n",
    "    # For every character, check if it exists \n",
    "    # in char_set \n",
    "    for i in range(0, len(st)): \n",
    "  \n",
    "        # Find ASCII value and check if it \n",
    "        # exists in set. \n",
    "        val = ord(st[i]) \n",
    "        if DEBUG:\n",
    "            print('val=%d' %(val))\n",
    "        if char_set[val]: \n",
    "            if DEBUG:\n",
    "                print('Found duplicate character')\n",
    "            return False\n",
    "  \n",
    "        char_set[val] = True\n",
    "  \n",
    "    return True\n",
    "\n",
    "# comment/uncomment these (or make your own) to see how the debug output changes\n",
    "isUniqueChars('dasndlkjsankljdsanl')\n",
    "#isUniqueChars('abcde')\n",
    "#isUniqueChars('change debug to false if you dont want to see those pesky print statements when you run this')"
   ]
  },
  {
   "cell_type": "code",
   "execution_count": 9,
   "metadata": {},
   "outputs": [
    {
     "name": "stdout",
     "output_type": "stream",
     "text": [
      "val=100\n",
      "val=97\n",
      "val=115\n",
      "val=110\n",
      "val=100\n",
      "Found duplicate character\n"
     ]
    },
    {
     "data": {
      "text/plain": [
       "False"
      ]
     },
     "execution_count": 9,
     "metadata": {},
     "output_type": "execute_result"
    }
   ],
   "source": [
    "def isUniqueChars(st): \n",
    "  \n",
    "    # String length cannot be more than \n",
    "    # 256. \n",
    "    if len(st) > 256: \n",
    "        print('String length larger than 256')\n",
    "        return False\n",
    "  \n",
    "    # Initialize occurrences of all characters \n",
    "    char_set = [False] * 128\n",
    "  \n",
    "    # For every character, check if it exists \n",
    "    # in char_set \n",
    "    for i in range(0, len(st)): \n",
    "  \n",
    "        # Find ASCII value and check if it \n",
    "        # exists in set. \n",
    "        val = ord(st[i]) \n",
    "        print('val=%d' %(val))\n",
    "        if char_set[val]: \n",
    "            print('Found duplicate character')\n",
    "            return False\n",
    "  \n",
    "        char_set[val] = True\n",
    "  \n",
    "    return True\n",
    "\n",
    "# comment/uncomment these (or make your own) to see how the debug output changes\n",
    "isUniqueChars('dasndlkjsankljdsanl')\n",
    "#isUniqueChars('abcde')\n",
    "#isUniqueChars('change debug to false if you dont want to see those pesky print statements when you run this')"
   ]
  },
  {
   "cell_type": "markdown",
   "metadata": {},
   "source": [
    "# 2.2 Reading and Writing Files\n",
    "Being able to read and write files using python code will certainly help improve your workflow when you're working with real data. In addition to the basic methods I've provided here there are also many, many libraries which include functions to read in and format data into useful structures as well as output python data structures into various file formats. In the basics section we worked a little with pandas dataframes which have a builtin function for outputtin to a csv file. In case you are unfamiliar, csv files can be opened with excel and preserve the table-like structure of the dataframe. \n",
    "\n",
    "We will start with reading a file into your program using code. To do this you need to create a file object, we will talk more about objects in the advanced section of this guide. To create a file object follow the format below:\n",
    "```python\n",
    "my_file = open('filepath', 'mode')\n",
    "```\n",
    "The `filepath` parameter is used to tell python where to look for the file you are trying to open. Its simplest if you keep the files in the same folder as your python script or in a subdirectory. The following examples show how you would open the specified file with several different directory structures to give you an idea.\n",
    "\n",
    "```text\n",
    "C:/\n",
    "|\n",
    "├─── My_Project/\n",
    "        |\n",
    "        ├─── mycode.py\n",
    "        |\n",
    "        ├─── data.txt\n",
    "```\n",
    "\n",
    "```python\n",
    "my_data = open('data.txt', 'r')\n",
    "```\n",
    "\n",
    "```text\n",
    "C:/\n",
    "|\n",
    "├─── My_Project/\n",
    "        |\n",
    "        ├─── mycode.py\n",
    "        |\n",
    "        ├─── Data/\n",
    "              |\n",
    "              ├─── data.txt\n",
    "```\n",
    "\n",
    "```python\n",
    "my_data = open('Data/data.txt', 'r')\n",
    "```\n",
    "\n",
    "```text\n",
    "C:/\n",
    "|\n",
    "├─── My_Project/\n",
    "        |\n",
    "        ├─── mycode.py\n",
    "        |\n",
    "        ├─── Data/\n",
    "              |\n",
    "              ├─── Text/\n",
    "              |      |\n",
    "              |      ├─── Group1/\n",
    "              |      |      |\n",
    "              |      |      ├─── Samples/\n",
    "              |      |             |\n",
    "              |      |             ├─── sample_data.txt\n",
    "              |      |\n",
    "              |      ├─── Group2/\n",
    "              |      |      |\n",
    "              |      |      ├─── group_data.txt\n",
    "              |      |\n",
    "              |      ├─── Group3/\n",
    "              |             |\n",
    "              |             ├─── g3data.txt\n",
    "              |\n",
    "              ├─── CSV/\n",
    "                    |\n",
    "                    ├─── Samples/\n",
    "                    |       |\n",
    "                    |       ├─── csv_sample.csv\n",
    "                    |\n",
    "                    ├─── New/\n",
    "                    |     |\n",
    "                    |     ├─── my_data.csv\n",
    "                    |\n",
    "                    ├─── Old/\n",
    "                          |\n",
    "                          ├─── old_data.csv\n",
    "```\n",
    "\n",
    "```python\n",
    "group_1_sample = open('Data/Text/Group1/Samples/sample_data.txt', 'r')\n",
    "group_2_data = open('Data/Text/Group2/group_data.txt', 'r')\n",
    "group_3_data = open('Data/Text/Group3/g3data.txt', 'r')\n",
    "csv_sample = open('Data/CSV/Samples/csv_sample.csv', 'r')\n",
    "csv_new = open('Data/CSV/New/my_data.csv', 'r')\n",
    "csv_old = open('Data/CSV/Old/old_data.csv', 'r')\n",
    "```\n",
    "If your data file is outside of the directory your python code is in you'll need to use the absolute path to the file. For more information on absolute paths look [here](https://automatetheboringstuff.com/chapter8/)\n",
    "\n",
    "The `mode` parameter tells python what you plan to do with the file, this can be reading the file, writing the file or both (plus a few other options). Reading the file means that python will be able to use data in the file as the code executes but no new content can be added to the file nor can any content be removed. Writing the file refers to making changes to the content of the file whether that's adding new information or removing existing information. Although you could always open a file with both read and write privledges, it is better to have it only open with what you intend so that nothing accidentally gets overwritten or deleted. The following table shows the various modes available, the parameter you would use, and a short description of what they do.\n",
    "\n",
    "| mode\t|character|meaning|\n",
    "|---\t|---\t  |---    |\n",
    "| read \t| 'r'  \t  |  open for reading (default)     |\n",
    "| write\t| 'w'  \t  |  open for writing     |\n",
    "| create| 'x'  \t  |  open to create file, fails if filename already exists     |\n",
    "| append| 'a'  \t  |  open for writing, append all content to end of file assuming it exists     |\n",
    "| binary| 'b'     |  binary mode     |\n",
    "| text  | 't'     |  text mode (default)     |\n",
    "| update| '+'     |  open for reading and writing     |\n",
    "\n",
    "\n",
    "Now that we know how to open a file, let's try doing some reading and writing. If you look at the table above you'll notice the text mode is the default, for your purposes you'll really only be using text mode this means when content is read from the file you've opened all of it will be in string format to begin with, this is important to remember if you are working with data because python will not automatically parse the data into numbers that you can perform mathematical equations on. The binary mode on the other hand reads the bytes of data in your file directly without attempting to interpret it. This means if you had a file with a single `a` reading the file in binary mode would return `01100001` which is the binary representation of the ASCII 'a'. In contrast if you read the same file in text mode the returned value would be `'a'` (Note: apostrophes and quotation marks are interchangable in python, both denote a string literal)\n",
    "\n",
    "## Reading from a file\n",
    "If you want to read the entire contents of the file in all at once you can use `file_contents = file_object.read()` this calls the read() function on the file which you opened using the `open()` function we discussed earlier. In many cases reading the entire file in one giant blob is not the best way to accomplish any given task which is why there are other reading methods and functions available. In some instances it may be better for each line in the file to be a separate string. We can get a list of all the lines in separate strings using `file_lines = file_object.readlines()` which will return a list with each entry being its own line in the file. The final option for file reading is the `readline()` function. This function reads a single line at a time and returns it as a string. This function is best used with a loop so that you can incrementally read and process each line from a file rather than trying to do it all at once. Before we take a look at the code in the next cell and see some working code we need to cover the `close()` function. It is critical (if you don't want to have corrupted files) to close the file when you are done using it, if it helps you can think of it like saving your work before you shutdown your computer, if you don't save your work it won't all be there when you return. To close a file object all you need to do is `file_object.close()`. Alternatively, you can avoid needing to remember to include the `close()` statement by using a little python magic with the `with` keyword. The following example creates a file named `data.txt` and writes `hello world` then automatically closes the file when all writing has completed.\n",
    "\n",
    "```python\n",
    "with open('data.txt', 'x+') as file:\n",
    "    file.write('Hello World')\n",
    "\n",
    "print('File closed when this line reached')\n",
    "```\n",
    "\n",
    "Now let's look at some real examples using the sample data in the data/ directory."
   ]
  },
  {
   "cell_type": "code",
   "execution_count": 5,
   "metadata": {},
   "outputs": [
    {
     "name": "stdout",
     "output_type": "stream",
     "text": [
      "----- Value of read() function: -----\n",
      "hello world\n",
      "\n",
      "this is line 3\n",
      "let's parse some data\n",
      "here's another line\n",
      "the next line is all whitespace\n",
      "            \n",
      "this is another line\n",
      "wow so creative \n",
      "this is the last line in the file\n",
      "\n",
      "\n",
      "----- Value of readline() function: -----\n",
      "hello world\n",
      "\n",
      "\n",
      "\n",
      "----- Value of readlines() function -----\n",
      "['hello world\\n', '\\n', 'this is line 3\\n', \"let's parse some data\\n\", \"here's another line\\n\", 'the next line is all whitespace\\n', '            \\n', 'this is another line\\n', 'wow so creative \\n', 'this is the last line in the file']\n"
     ]
    }
   ],
   "source": [
    "# example using all 3 read methods\n",
    "with open('data/data1.txt') as myfile:\n",
    "    all_content = myfile.read()\n",
    "    print('----- Value of read() function: -----')\n",
    "    print(all_content)\n",
    "    \n",
    "print('\\n')\n",
    "with open('data/data1.txt') as myfile:\n",
    "    single_line = myfile.readline()\n",
    "    print('----- Value of readline() function: -----')\n",
    "    print(single_line)\n",
    "    \n",
    "print('\\n')\n",
    "with open('data/data1.txt') as myfile:\n",
    "    all_lines = myfile.readlines()\n",
    "    print('----- Value of readlines() function -----')\n",
    "    print(all_lines)\n",
    "    "
   ]
  },
  {
   "cell_type": "code",
   "execution_count": 7,
   "metadata": {},
   "outputs": [
    {
     "name": "stdout",
     "output_type": "stream",
     "text": [
      "0: hello world\n",
      "\n",
      "1: \n",
      "\n",
      "2: this is line 3\n",
      "\n",
      "3: let's parse some data\n",
      "\n",
      "4: here's another line\n",
      "\n",
      "5: the next line is all whitespace\n",
      "\n",
      "6:             \n",
      "\n",
      "7: this is another line\n",
      "\n",
      "8: wow so creative \n",
      "\n",
      "9: this is the last line in the file\n"
     ]
    }
   ],
   "source": [
    "# example iterating over a file line by line\n",
    "with open('data/data1.txt') as mf:\n",
    "    line_num = 0\n",
    "    for line in mf:\n",
    "        print('{}: {}'.format(line_num, line))  # format() is another way to insert variables into a string\n",
    "        line_num += 1"
   ]
  },
  {
   "cell_type": "code",
   "execution_count": 16,
   "metadata": {},
   "outputs": [
    {
     "name": "stdout",
     "output_type": "stream",
     "text": [
      "[10, 15, 5, 7, 6, 3, 2, 3, 12, 2, 78, 8, 0, 10, '23\\n']\n"
     ]
    }
   ],
   "source": [
    "# example parsing comma separated numbers - notice how the last number doesn't get converted\n",
    "with open('data/data2.txt') as mf:\n",
    "    line = mf.readline()\n",
    "    line = mf.readline()\n",
    "    # split the line each time a ',' occurs in the line\n",
    "    data = line.split(', ')\n",
    "    i = 0\n",
    "    # parse the strings of numbers into python numbers\n",
    "    for val in data:\n",
    "        if val.isdigit():\n",
    "            data[i] = int(val)\n",
    "            i += 1\n",
    "        # uncomment the following code to fix the last number not being converted\n",
    "        #if not val.isdigit():\n",
    "            #val.rstrip()\n",
    "            #data[i] = int(val)\n",
    "            #i += 1\n",
    "    print(data)"
   ]
  },
  {
   "cell_type": "code",
   "execution_count": null,
   "metadata": {},
   "outputs": [],
   "source": []
  }
 ],
 "metadata": {
  "kernelspec": {
   "display_name": "Python 3",
   "language": "python",
   "name": "python3"
  },
  "language_info": {
   "codemirror_mode": {
    "name": "ipython",
    "version": 3
   },
   "file_extension": ".py",
   "mimetype": "text/x-python",
   "name": "python",
   "nbconvert_exporter": "python",
   "pygments_lexer": "ipython3",
   "version": "3.7.5"
  }
 },
 "nbformat": 4,
 "nbformat_minor": 4
}
