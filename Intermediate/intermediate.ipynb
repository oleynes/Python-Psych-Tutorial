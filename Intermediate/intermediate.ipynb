{
 "cells": [
  {
   "cell_type": "markdown",
   "metadata": {},
   "source": [
    "# 2.1 Printing and Debugging\n",
    "If you already read through all of the beginner section you've seen me use the `print()` function a lot. Printing is a really good way to get feedback from your program as the code executes, sometimes you can't quite track down where an error is coming from with the printed error message and other times it will be a logic error you need to fix. Generally speaking when it comes to code logic errors are your worst enemy because it isn't something the python interpreter can catch. A common example of a logic error is if you programmed a banking system and the function which applies interest to an account uses the wrong equation the program will run just fine but customers' account balances will be incorrect. So how would you track down an issue? The best answer is a whole lot of printing. \n",
    "\n",
    "Now as with most things in programming there's a number of ways of adding all these print statements to your code, I'll be showing a few ways that I commonly debug my programs as well as give a little blurb about when I would use each method but to be clear there is no *wrong* way to debug a program, if it helps you find the error and fix it then it's as good an options as any of these.\n",
    "\n",
    "Before we get into the code, I think it's also important to discuss what you should be printing in these debug statements. Generally speaking starting with printing the value of important variables. Additionally its sometimes useful to print something like `inside for loop` to help keep track of where in the code the program is currently executing. \n",
    "\n",
    "\n",
    "When debugging a program there are often a few things that affect what method I choose for adding debug statements. If its a large project I often elect to use the first example, this is a more permenant debugging solution that requires a bit more initial setup but can be useful when problems pop up because only the debug variable's value needs to be changed for the print statements to work. For small projects this is a bit overkill because its likely you will fix the problem and not need to debug that part of the code again. Now lets get into some code shall we?"
   ]
  },
  {
   "cell_type": "code",
   "execution_count": 1,
   "metadata": {},
   "outputs": [
    {
     "name": "stdout",
     "output_type": "stream",
     "text": [
      "Hello World\n"
     ]
    }
   ],
   "source": [
    "DEBUG = True\n",
    "\n",
    "if DEBUG:\n",
    "    print('Hello World')\n",
    "    \n",
    "# this option is best for big projects where you might need to\n",
    "# debug the same portion of your code multiple times over the course \n",
    "# of development. "
   ]
  },
  {
   "cell_type": "code",
   "execution_count": 2,
   "metadata": {},
   "outputs": [
    {
     "name": "stdout",
     "output_type": "stream",
     "text": [
      "Program running\n"
     ]
    }
   ],
   "source": [
    "print('Program running')\n",
    "\n",
    "a = 5\n",
    "# print('Value of a=%d' %(a))    # notice this doesn't print \n",
    "\n",
    "# for simple programs this is a better option, if you think you might\n",
    "# need to come back you can always comment out the print statement by\n",
    "# preceding it with a `#` and then when you're done you can just \n",
    "# delete all the prints using find and replace (usually [CTRL] + [F])"
   ]
  },
  {
   "cell_type": "markdown",
   "metadata": {},
   "source": [
    "Its hard to see what the pros and cons of these two options are with just what is above, I encourage you to play around with the next two examples to see how easy it is to enable and disable the print statement with each style. The more you work with code and design your own debugging systems the more you'll understand why the first is better in some instances and the second likewise."
   ]
  },
  {
   "cell_type": "code",
   "execution_count": 8,
   "metadata": {},
   "outputs": [
    {
     "name": "stdout",
     "output_type": "stream",
     "text": [
      "val=100\n",
      "val=97\n",
      "val=115\n",
      "val=110\n",
      "val=100\n",
      "Found duplicate character\n"
     ]
    },
    {
     "data": {
      "text/plain": [
       "False"
      ]
     },
     "execution_count": 8,
     "metadata": {},
     "output_type": "execute_result"
    }
   ],
   "source": [
    "DEBUG = True\n",
    "def isUniqueChars(st): \n",
    "  \n",
    "    # String length cannot be more than \n",
    "    # 256. \n",
    "    if len(st) > 256: \n",
    "        if DEBUG:\n",
    "            print('String length larger than 256')\n",
    "        return False\n",
    "  \n",
    "    # Initialize occurrences of all characters \n",
    "    char_set = [False] * 128\n",
    "  \n",
    "    # For every character, check if it exists \n",
    "    # in char_set \n",
    "    for i in range(0, len(st)): \n",
    "  \n",
    "        # Find ASCII value and check if it \n",
    "        # exists in set. \n",
    "        val = ord(st[i]) \n",
    "        if DEBUG:\n",
    "            print('val=%d' %(val))\n",
    "        if char_set[val]: \n",
    "            if DEBUG:\n",
    "                print('Found duplicate character')\n",
    "            return False\n",
    "  \n",
    "        char_set[val] = True\n",
    "  \n",
    "    return True\n",
    "\n",
    "# comment/uncomment these (or make your own) to see how the debug output changes\n",
    "isUniqueChars('dasndlkjsankljdsanl')\n",
    "#isUniqueChars('abcde')\n",
    "#isUniqueChars('change debug to false if you dont want to see those pesky print statements when you run this')"
   ]
  },
  {
   "cell_type": "code",
   "execution_count": 9,
   "metadata": {},
   "outputs": [
    {
     "name": "stdout",
     "output_type": "stream",
     "text": [
      "val=100\n",
      "val=97\n",
      "val=115\n",
      "val=110\n",
      "val=100\n",
      "Found duplicate character\n"
     ]
    },
    {
     "data": {
      "text/plain": [
       "False"
      ]
     },
     "execution_count": 9,
     "metadata": {},
     "output_type": "execute_result"
    }
   ],
   "source": [
    "def isUniqueChars(st): \n",
    "  \n",
    "    # String length cannot be more than \n",
    "    # 256. \n",
    "    if len(st) > 256: \n",
    "        print('String length larger than 256')\n",
    "        return False\n",
    "  \n",
    "    # Initialize occurrences of all characters \n",
    "    char_set = [False] * 128\n",
    "  \n",
    "    # For every character, check if it exists \n",
    "    # in char_set \n",
    "    for i in range(0, len(st)): \n",
    "  \n",
    "        # Find ASCII value and check if it \n",
    "        # exists in set. \n",
    "        val = ord(st[i]) \n",
    "        print('val=%d' %(val))\n",
    "        if char_set[val]: \n",
    "            print('Found duplicate character')\n",
    "            return False\n",
    "  \n",
    "        char_set[val] = True\n",
    "  \n",
    "    return True\n",
    "\n",
    "# comment/uncomment these (or make your own) to see how the debug output changes\n",
    "isUniqueChars('dasndlkjsankljdsanl')\n",
    "#isUniqueChars('abcde')\n",
    "#isUniqueChars('change debug to false if you dont want to see those pesky print statements when you run this')"
   ]
  },
  {
   "cell_type": "markdown",
   "metadata": {},
   "source": [
    "# 2.2 Reading and Writing Files\n",
    "Being able to read and write files using python code will certainly help improve your workflow when you're working with real data. In addition to the basic methods I've provided here there are also many, many libraries which include functions to read in and format data into useful structures as well as output python data structures into various file formats. In the basics section we worked a little with pandas dataframes which have a builtin function for outputtin to a csv file. In case you are unfamiliar, csv files can be opened with excel and preserve the table-like structure of the dataframe. \n",
    "\n"
   ]
  }
 ],
 "metadata": {
  "kernelspec": {
   "display_name": "Python 3",
   "language": "python",
   "name": "python3"
  },
  "language_info": {
   "codemirror_mode": {
    "name": "ipython",
    "version": 3
   },
   "file_extension": ".py",
   "mimetype": "text/x-python",
   "name": "python",
   "nbconvert_exporter": "python",
   "pygments_lexer": "ipython3",
   "version": "3.7.5"
  }
 },
 "nbformat": 4,
 "nbformat_minor": 4
}
