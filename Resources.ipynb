{
 "cells": [
  {
   "cell_type": "markdown",
   "metadata": {},
   "source": [
    "# Resources\n",
    "I will be the first to admit I didn't write this guide from memory by any means. Just like you soon will find, its a whole lot easier to just refer back to various guides and online resources as needed rather than memorizing every possible command and feature. I've added some links to guides I personlly use regularly in case you need some recommendations. Happy Coding :)\n",
    "\n",
    "[W3 Schools Python Tutorial](https://www.w3schools.com/python/)\n",
    "\n",
    "[TutorialsPoint Python Tutorial](https://www.tutorialspoint.com/python/index.htm)\n",
    "\n",
    "[Pandas Documentation](https://pandas.pydata.org/pandas-docs/stable/index.html)\n",
    "\n",
    "[Numpy Documentation](https://docs.scipy.org/doc/)\n",
    "\n",
    "[PyPi](https://pypi.org/search/?q=psychology)\n",
    "\n",
    "[Windows Command Prompt Tutorial](https://www.bleepingcomputer.com/tutorials/windows-command-prompt-introduction/)\n",
    "\n",
    "[Mac Terminal Tutorial](https://macpaw.com/how-to/use-terminal-on-mac)\n",
    "\n",
    "[Linux/Unix Terminal Tutorial](https://www.howtogeek.com/140679/beginner-geek-how-to-start-using-the-linux-terminal/)\n",
    "\n",
    "[Git Branch Tutorial](https://learngitbranching.js.org/?locale=en_US)\n",
    "\n",
    "[Git Cheat Sheet](https://www.git-tower.com/blog/git-cheat-sheet/)\n",
    "\n",
    "[CSV In Python Tutorial](https://docs.python.org/3/library/csv.html)\n",
    "\n",
    "[Python 3 Documentation](https://docs.python.org/3/)\n",
    "\n",
    "\n"
   ]
  },
  {
   "cell_type": "code",
   "execution_count": null,
   "metadata": {},
   "outputs": [],
   "source": []
  }
 ],
 "metadata": {
  "kernelspec": {
   "display_name": "Python 3",
   "language": "python",
   "name": "python3"
  },
  "language_info": {
   "codemirror_mode": {
    "name": "ipython",
    "version": 3
   },
   "file_extension": ".py",
   "mimetype": "text/x-python",
   "name": "python",
   "nbconvert_exporter": "python",
   "pygments_lexer": "ipython3",
   "version": "3.7.5"
  }
 },
 "nbformat": 4,
 "nbformat_minor": 4
}
